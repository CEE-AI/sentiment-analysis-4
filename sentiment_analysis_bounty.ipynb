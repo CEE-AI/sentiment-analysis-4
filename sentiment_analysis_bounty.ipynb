{
 "cells": [
  {
   "cell_type": "markdown",
   "metadata": {},
   "source": [
    "# Sentiment Analysis of Recipe Reviews"
   ]
  },
  {
   "cell_type": "markdown",
   "metadata": {},
   "source": [
    "We begin by importing the required libraries and methods using the import...as keyword"
   ]
  },
  {
   "cell_type": "code",
   "execution_count": 2,
   "metadata": {},
   "outputs": [
    {
     "ename": "ModuleNotFoundError",
     "evalue": "No module named 'pandas'",
     "output_type": "error",
     "traceback": [
      "\u001b[1;31m---------------------------------------------------------------------------\u001b[0m",
      "\u001b[1;31mModuleNotFoundError\u001b[0m                       Traceback (most recent call last)",
      "\u001b[1;32mc:\\Users\\Enigma\\Desktop\\app.stackup.dev\\sentiment-analysis-4\\sentiment_analysis_bounty.ipynb Cell 3\u001b[0m line \u001b[0;36m1\n\u001b[1;32m----> <a href='vscode-notebook-cell:/c%3A/Users/Enigma/Desktop/app.stackup.dev/sentiment-analysis-4/sentiment_analysis_bounty.ipynb#W2sZmlsZQ%3D%3D?line=0'>1</a>\u001b[0m \u001b[39mimport\u001b[39;00m \u001b[39mpandas\u001b[39;00m \u001b[39mas\u001b[39;00m \u001b[39mpd\u001b[39;00m\n\u001b[0;32m      <a href='vscode-notebook-cell:/c%3A/Users/Enigma/Desktop/app.stackup.dev/sentiment-analysis-4/sentiment_analysis_bounty.ipynb#W2sZmlsZQ%3D%3D?line=1'>2</a>\u001b[0m \u001b[39mimport\u001b[39;00m \u001b[39mnumpy\u001b[39;00m \u001b[39mas\u001b[39;00m \u001b[39mnp\u001b[39;00m\n\u001b[0;32m      <a href='vscode-notebook-cell:/c%3A/Users/Enigma/Desktop/app.stackup.dev/sentiment-analysis-4/sentiment_analysis_bounty.ipynb#W2sZmlsZQ%3D%3D?line=2'>3</a>\u001b[0m \u001b[39mimport\u001b[39;00m \u001b[39mmatplotlib\u001b[39;00m\u001b[39m.\u001b[39;00m\u001b[39mpyplot\u001b[39;00m \u001b[39mas\u001b[39;00m \u001b[39mplt\u001b[39;00m\n",
      "\u001b[1;31mModuleNotFoundError\u001b[0m: No module named 'pandas'"
     ]
    }
   ],
   "source": [
    "import pandas as pd\n",
    "import numpy as np\n",
    "import matplotlib.pyplot as plt\n",
    "%matplotlib inline\n",
    "import seaborn as sns\n",
    "sns.set()\n",
    "import warnings\n",
    "warnings.filterwarnings('ignore')"
   ]
  },
  {
   "cell_type": "markdown",
   "metadata": {},
   "source": [
    "#### Read dataset containing recipe reviews (Recipe Reviews and User Feedback Dataset.csv) from local working directory:\n",
    "recipe_df = pd.read_csv(\"your filepath\")"
   ]
  },
  {
   "cell_type": "code",
   "execution_count": null,
   "metadata": {},
   "outputs": [],
   "source": [
    "recipe_df = pd.read_csv('C:/Users/Enigma/Desktop/app.stackup.dev/sentiment-analysis-4/Recipe Reviews and User Feedback Dataset.csv',encoding='latin-1')"
   ]
  },
  {
   "cell_type": "markdown",
   "metadata": {},
   "source": [
    "#### Inspect your DF (Data Frame):\n",
    "recipe_df.head()"
   ]
  },
  {
   "cell_type": "code",
   "execution_count": null,
   "metadata": {},
   "outputs": [
    {
     "data": {
      "text/html": [
       "<div>\n",
       "<style scoped>\n",
       "    .dataframe tbody tr th:only-of-type {\n",
       "        vertical-align: middle;\n",
       "    }\n",
       "\n",
       "    .dataframe tbody tr th {\n",
       "        vertical-align: top;\n",
       "    }\n",
       "\n",
       "    .dataframe thead th {\n",
       "        text-align: right;\n",
       "    }\n",
       "</style>\n",
       "<table border=\"1\" class=\"dataframe\">\n",
       "  <thead>\n",
       "    <tr style=\"text-align: right;\">\n",
       "      <th></th>\n",
       "      <th>Unnamed: 0</th>\n",
       "      <th>recipe_number</th>\n",
       "      <th>recipe_code</th>\n",
       "      <th>recipe_name</th>\n",
       "      <th>comment_id</th>\n",
       "      <th>user_id</th>\n",
       "      <th>user_name</th>\n",
       "      <th>user_reputation</th>\n",
       "      <th>created_at</th>\n",
       "      <th>reply_count</th>\n",
       "      <th>thumbs_up</th>\n",
       "      <th>thumbs_down</th>\n",
       "      <th>stars</th>\n",
       "      <th>best_score</th>\n",
       "      <th>text</th>\n",
       "    </tr>\n",
       "  </thead>\n",
       "  <tbody>\n",
       "    <tr>\n",
       "      <th>0</th>\n",
       "      <td>0</td>\n",
       "      <td>1</td>\n",
       "      <td>14299</td>\n",
       "      <td>Creamy White Chili</td>\n",
       "      <td>sp_aUSaElGf_14299_c_2G3aneMRgRMZwXqIHmSdXSG1hEM</td>\n",
       "      <td>u_9iFLIhMa8QaG</td>\n",
       "      <td>Jeri326</td>\n",
       "      <td>1</td>\n",
       "      <td>1665619889</td>\n",
       "      <td>0</td>\n",
       "      <td>0</td>\n",
       "      <td>0</td>\n",
       "      <td>5</td>\n",
       "      <td>527</td>\n",
       "      <td>I tweaked it a little, removed onions because ...</td>\n",
       "    </tr>\n",
       "    <tr>\n",
       "      <th>1</th>\n",
       "      <td>1</td>\n",
       "      <td>1</td>\n",
       "      <td>14299</td>\n",
       "      <td>Creamy White Chili</td>\n",
       "      <td>sp_aUSaElGf_14299_c_2FsPC83HtzCsQAtOxlbL6RcaPbY</td>\n",
       "      <td>u_Lu6p25tmE77j</td>\n",
       "      <td>Mark467</td>\n",
       "      <td>50</td>\n",
       "      <td>1665277687</td>\n",
       "      <td>0</td>\n",
       "      <td>7</td>\n",
       "      <td>0</td>\n",
       "      <td>5</td>\n",
       "      <td>724</td>\n",
       "      <td>Bush used to have a white chili bean and it ma...</td>\n",
       "    </tr>\n",
       "    <tr>\n",
       "      <th>2</th>\n",
       "      <td>2</td>\n",
       "      <td>1</td>\n",
       "      <td>14299</td>\n",
       "      <td>Creamy White Chili</td>\n",
       "      <td>sp_aUSaElGf_14299_c_2FPrSGyTv7PQkZq37j92r9mYGkP</td>\n",
       "      <td>u_s0LwgpZ8Jsqq</td>\n",
       "      <td>Barbara566</td>\n",
       "      <td>10</td>\n",
       "      <td>1664404557</td>\n",
       "      <td>0</td>\n",
       "      <td>3</td>\n",
       "      <td>0</td>\n",
       "      <td>5</td>\n",
       "      <td>710</td>\n",
       "      <td>I have a very complicated white chicken chili ...</td>\n",
       "    </tr>\n",
       "    <tr>\n",
       "      <th>3</th>\n",
       "      <td>3</td>\n",
       "      <td>1</td>\n",
       "      <td>14299</td>\n",
       "      <td>Creamy White Chili</td>\n",
       "      <td>sp_aUSaElGf_14299_c_2DzdSIgV9qNiuBaLoZ7JQaartoC</td>\n",
       "      <td>u_fqrybAdYjgjG</td>\n",
       "      <td>jeansch123</td>\n",
       "      <td>1</td>\n",
       "      <td>1661787808</td>\n",
       "      <td>2</td>\n",
       "      <td>2</td>\n",
       "      <td>0</td>\n",
       "      <td>0</td>\n",
       "      <td>581</td>\n",
       "      <td>In your introduction, you mentioned cream chee...</td>\n",
       "    </tr>\n",
       "    <tr>\n",
       "      <th>4</th>\n",
       "      <td>4</td>\n",
       "      <td>1</td>\n",
       "      <td>14299</td>\n",
       "      <td>Creamy White Chili</td>\n",
       "      <td>sp_aUSaElGf_14299_c_2DtZJuRQYeTFwXBoZRfRhBPEXjI</td>\n",
       "      <td>u_XXWKwVhKZD69</td>\n",
       "      <td>camper77</td>\n",
       "      <td>10</td>\n",
       "      <td>1664913823</td>\n",
       "      <td>1</td>\n",
       "      <td>7</td>\n",
       "      <td>0</td>\n",
       "      <td>0</td>\n",
       "      <td>820</td>\n",
       "      <td>Wonderful! I made this for a &amp;#34;Chili/Stew&amp;#...</td>\n",
       "    </tr>\n",
       "  </tbody>\n",
       "</table>\n",
       "</div>"
      ],
      "text/plain": [
       "   Unnamed: 0  recipe_number  recipe_code         recipe_name  \\\n",
       "0           0              1        14299  Creamy White Chili   \n",
       "1           1              1        14299  Creamy White Chili   \n",
       "2           2              1        14299  Creamy White Chili   \n",
       "3           3              1        14299  Creamy White Chili   \n",
       "4           4              1        14299  Creamy White Chili   \n",
       "\n",
       "                                        comment_id         user_id  \\\n",
       "0  sp_aUSaElGf_14299_c_2G3aneMRgRMZwXqIHmSdXSG1hEM  u_9iFLIhMa8QaG   \n",
       "1  sp_aUSaElGf_14299_c_2FsPC83HtzCsQAtOxlbL6RcaPbY  u_Lu6p25tmE77j   \n",
       "2  sp_aUSaElGf_14299_c_2FPrSGyTv7PQkZq37j92r9mYGkP  u_s0LwgpZ8Jsqq   \n",
       "3  sp_aUSaElGf_14299_c_2DzdSIgV9qNiuBaLoZ7JQaartoC  u_fqrybAdYjgjG   \n",
       "4  sp_aUSaElGf_14299_c_2DtZJuRQYeTFwXBoZRfRhBPEXjI  u_XXWKwVhKZD69   \n",
       "\n",
       "    user_name  user_reputation  created_at  reply_count  thumbs_up  \\\n",
       "0     Jeri326                1  1665619889            0          0   \n",
       "1     Mark467               50  1665277687            0          7   \n",
       "2  Barbara566               10  1664404557            0          3   \n",
       "3  jeansch123                1  1661787808            2          2   \n",
       "4    camper77               10  1664913823            1          7   \n",
       "\n",
       "   thumbs_down  stars  best_score  \\\n",
       "0            0      5         527   \n",
       "1            0      5         724   \n",
       "2            0      5         710   \n",
       "3            0      0         581   \n",
       "4            0      0         820   \n",
       "\n",
       "                                                text  \n",
       "0  I tweaked it a little, removed onions because ...  \n",
       "1  Bush used to have a white chili bean and it ma...  \n",
       "2  I have a very complicated white chicken chili ...  \n",
       "3  In your introduction, you mentioned cream chee...  \n",
       "4  Wonderful! I made this for a &#34;Chili/Stew&#...  "
      ]
     },
     "execution_count": 3,
     "metadata": {},
     "output_type": "execute_result"
    }
   ],
   "source": [
    "recipe_df.head()"
   ]
  },
  {
   "cell_type": "markdown",
   "metadata": {},
   "source": [
    "Next we will clean text from punctuations, symbols and preprocess recipe data frame to make it suitable to analyse and model data frame by employing the regular expression and contraction libraries "
   ]
  },
  {
   "cell_type": "code",
   "execution_count": null,
   "metadata": {},
   "outputs": [],
   "source": [
    "# Function to clean text from any kind of punctuation and other symbols\n",
    "import re\n",
    "def clean_text(text):\n",
    "    # For input of a non-string type\n",
    "    if not isinstance(text, str):\n",
    "        return str(text)\n",
    "    cleaned_text = re.sub(r'[^a-zA-Z\\s\\d]', '', text)\n",
    "    cleaned_text = re.sub(r'\\s+', ' ', cleaned_text)\n",
    "    cleaned_text = cleaned_text.strip()\n",
    "    return cleaned_text"
   ]
  },
  {
   "cell_type": "code",
   "execution_count": null,
   "metadata": {},
   "outputs": [],
   "source": [
    "# Preprocessing\n",
    "#pip or pip3 install contractions \n",
    "import contractions\n",
    "recipe_df['text'] = recipe_df['text'].str.lower()\n",
    "recipe_df['text'] = recipe_df['text'].apply(clean_text)\n",
    "recipe_df['text'] = recipe_df['text'].apply(contractions.fix)"
   ]
  },
  {
   "cell_type": "code",
   "execution_count": null,
   "metadata": {},
   "outputs": [
    {
     "data": {
      "text/plain": [
       "0        i tweaked it a little removed onions because o...\n",
       "1        bush used to have a white chili bean and it ma...\n",
       "2        i have a very complicated white chicken chili ...\n",
       "3        in your introduction you mentioned cream chees...\n",
       "4        wonderful i made this for a 34chilistew34 nigh...\n",
       "                               ...                        \n",
       "18177    this strawberry cake has been a family favorit...\n",
       "18178    pi received endless compliments on this cake i...\n",
       "18179    this cake was delicious and so moist i didn39t...\n",
       "18180    i just made this too it is wonderful as for th...\n",
       "18181    omg you must make this cake i made it for my s...\n",
       "Name: text, Length: 18182, dtype: object"
      ]
     },
     "execution_count": 6,
     "metadata": {},
     "output_type": "execute_result"
    }
   ],
   "source": [
    "recipe_df['text']"
   ]
  },
  {
   "cell_type": "markdown",
   "metadata": {},
   "source": [
    "Analyse the distribution of text lengths"
   ]
  },
  {
   "cell_type": "code",
   "execution_count": null,
   "metadata": {},
   "outputs": [],
   "source": [
    "review_len = []\n",
    "for review in recipe_df['text']:\n",
    "    review_len.append(len(review))"
   ]
  },
  {
   "cell_type": "code",
   "execution_count": null,
   "metadata": {},
   "outputs": [],
   "source": [
    "recipe_df['review_len'] = review_len"
   ]
  },
  {
   "cell_type": "code",
   "execution_count": null,
   "metadata": {},
   "outputs": [],
   "source": [
    "total_words = []\n",
    "for review in recipe_df['text']:\n",
    "    total_words.append(len(review.split()))"
   ]
  },
  {
   "cell_type": "code",
   "execution_count": null,
   "metadata": {},
   "outputs": [],
   "source": [
    "recipe_df['total_words'] = total_words"
   ]
  },
  {
   "cell_type": "code",
   "execution_count": null,
   "metadata": {},
   "outputs": [
    {
     "name": "stdout",
     "output_type": "stream",
     "text": [
      "amazing my boyfriend loved it so much going to make it again this week\n",
      "##############################\n",
      "we have been making this for years now and its hands down our favorite chili recipe one thing i love about it is that you can substitute low fat versions of the creamsour cream and its still just as good i39ve even used skim milk in place of the whipping cream with no problems we always serve it with the zucchini amp cheese drop biscuits to die for\n",
      "##############################\n",
      "besides being delicious it39s greatest strengths are it soooooo easy and quick the only thing i did differently is used 1 can of garbanzo beans and 1 can of no beans didn39t have 2 cans of northerns i too simmered it a bit longer to make it more chililike\n",
      "##############################\n",
      "love this chili even without the sour cream\n",
      "##############################\n",
      "my wife found this recipe in toh several years ago the name is right it really is the best ever depends on your oven on how long it needs to bake\n"
     ]
    }
   ],
   "source": [
    "# Check Some of reviews\n",
    "print(recipe_df['text'][5])\n",
    "print(\"#\"*30)\n",
    "print(recipe_df['text'][50])\n",
    "print(\"#\"*30)\n",
    "print(recipe_df['text'][100])\n",
    "print(\"#\"*30)\n",
    "print(recipe_df['text'][500])\n",
    "print(\"#\"*30)\n",
    "print(recipe_df['text'][1000])"
   ]
  },
  {
   "cell_type": "code",
   "execution_count": null,
   "metadata": {},
   "outputs": [
    {
     "data": {
      "text/html": [
       "<div>\n",
       "<style scoped>\n",
       "    .dataframe tbody tr th:only-of-type {\n",
       "        vertical-align: middle;\n",
       "    }\n",
       "\n",
       "    .dataframe tbody tr th {\n",
       "        vertical-align: top;\n",
       "    }\n",
       "\n",
       "    .dataframe thead th {\n",
       "        text-align: right;\n",
       "    }\n",
       "</style>\n",
       "<table border=\"1\" class=\"dataframe\">\n",
       "  <thead>\n",
       "    <tr style=\"text-align: right;\">\n",
       "      <th></th>\n",
       "      <th>Unnamed: 0</th>\n",
       "      <th>recipe_number</th>\n",
       "      <th>recipe_code</th>\n",
       "      <th>recipe_name</th>\n",
       "      <th>comment_id</th>\n",
       "      <th>user_id</th>\n",
       "      <th>user_name</th>\n",
       "      <th>user_reputation</th>\n",
       "      <th>created_at</th>\n",
       "      <th>reply_count</th>\n",
       "      <th>thumbs_up</th>\n",
       "      <th>thumbs_down</th>\n",
       "      <th>stars</th>\n",
       "      <th>best_score</th>\n",
       "      <th>text</th>\n",
       "      <th>review_len</th>\n",
       "      <th>total_words</th>\n",
       "    </tr>\n",
       "  </thead>\n",
       "  <tbody>\n",
       "    <tr>\n",
       "      <th>0</th>\n",
       "      <td>0</td>\n",
       "      <td>1</td>\n",
       "      <td>14299</td>\n",
       "      <td>Creamy White Chili</td>\n",
       "      <td>sp_aUSaElGf_14299_c_2G3aneMRgRMZwXqIHmSdXSG1hEM</td>\n",
       "      <td>u_9iFLIhMa8QaG</td>\n",
       "      <td>Jeri326</td>\n",
       "      <td>1</td>\n",
       "      <td>1665619889</td>\n",
       "      <td>0</td>\n",
       "      <td>0</td>\n",
       "      <td>0</td>\n",
       "      <td>5</td>\n",
       "      <td>527</td>\n",
       "      <td>i tweaked it a little removed onions because o...</td>\n",
       "      <td>345</td>\n",
       "      <td>67</td>\n",
       "    </tr>\n",
       "    <tr>\n",
       "      <th>1</th>\n",
       "      <td>1</td>\n",
       "      <td>1</td>\n",
       "      <td>14299</td>\n",
       "      <td>Creamy White Chili</td>\n",
       "      <td>sp_aUSaElGf_14299_c_2FsPC83HtzCsQAtOxlbL6RcaPbY</td>\n",
       "      <td>u_Lu6p25tmE77j</td>\n",
       "      <td>Mark467</td>\n",
       "      <td>50</td>\n",
       "      <td>1665277687</td>\n",
       "      <td>0</td>\n",
       "      <td>7</td>\n",
       "      <td>0</td>\n",
       "      <td>5</td>\n",
       "      <td>724</td>\n",
       "      <td>bush used to have a white chili bean and it ma...</td>\n",
       "      <td>137</td>\n",
       "      <td>28</td>\n",
       "    </tr>\n",
       "    <tr>\n",
       "      <th>2</th>\n",
       "      <td>2</td>\n",
       "      <td>1</td>\n",
       "      <td>14299</td>\n",
       "      <td>Creamy White Chili</td>\n",
       "      <td>sp_aUSaElGf_14299_c_2FPrSGyTv7PQkZq37j92r9mYGkP</td>\n",
       "      <td>u_s0LwgpZ8Jsqq</td>\n",
       "      <td>Barbara566</td>\n",
       "      <td>10</td>\n",
       "      <td>1664404557</td>\n",
       "      <td>0</td>\n",
       "      <td>3</td>\n",
       "      <td>0</td>\n",
       "      <td>5</td>\n",
       "      <td>710</td>\n",
       "      <td>i have a very complicated white chicken chili ...</td>\n",
       "      <td>346</td>\n",
       "      <td>63</td>\n",
       "    </tr>\n",
       "    <tr>\n",
       "      <th>3</th>\n",
       "      <td>3</td>\n",
       "      <td>1</td>\n",
       "      <td>14299</td>\n",
       "      <td>Creamy White Chili</td>\n",
       "      <td>sp_aUSaElGf_14299_c_2DzdSIgV9qNiuBaLoZ7JQaartoC</td>\n",
       "      <td>u_fqrybAdYjgjG</td>\n",
       "      <td>jeansch123</td>\n",
       "      <td>1</td>\n",
       "      <td>1661787808</td>\n",
       "      <td>2</td>\n",
       "      <td>2</td>\n",
       "      <td>0</td>\n",
       "      <td>0</td>\n",
       "      <td>581</td>\n",
       "      <td>in your introduction you mentioned cream chees...</td>\n",
       "      <td>91</td>\n",
       "      <td>15</td>\n",
       "    </tr>\n",
       "    <tr>\n",
       "      <th>4</th>\n",
       "      <td>4</td>\n",
       "      <td>1</td>\n",
       "      <td>14299</td>\n",
       "      <td>Creamy White Chili</td>\n",
       "      <td>sp_aUSaElGf_14299_c_2DtZJuRQYeTFwXBoZRfRhBPEXjI</td>\n",
       "      <td>u_XXWKwVhKZD69</td>\n",
       "      <td>camper77</td>\n",
       "      <td>10</td>\n",
       "      <td>1664913823</td>\n",
       "      <td>1</td>\n",
       "      <td>7</td>\n",
       "      <td>0</td>\n",
       "      <td>0</td>\n",
       "      <td>820</td>\n",
       "      <td>wonderful i made this for a 34chilistew34 nigh...</td>\n",
       "      <td>223</td>\n",
       "      <td>42</td>\n",
       "    </tr>\n",
       "    <tr>\n",
       "      <th>...</th>\n",
       "      <td>...</td>\n",
       "      <td>...</td>\n",
       "      <td>...</td>\n",
       "      <td>...</td>\n",
       "      <td>...</td>\n",
       "      <td>...</td>\n",
       "      <td>...</td>\n",
       "      <td>...</td>\n",
       "      <td>...</td>\n",
       "      <td>...</td>\n",
       "      <td>...</td>\n",
       "      <td>...</td>\n",
       "      <td>...</td>\n",
       "      <td>...</td>\n",
       "      <td>...</td>\n",
       "      <td>...</td>\n",
       "      <td>...</td>\n",
       "    </tr>\n",
       "    <tr>\n",
       "      <th>18177</th>\n",
       "      <td>114</td>\n",
       "      <td>100</td>\n",
       "      <td>82745</td>\n",
       "      <td>Mamaw Emilyâs Strawberry Cake</td>\n",
       "      <td>sp_aUSaElGf_82745_c_331352</td>\n",
       "      <td>u_1oKblS4ULpTAACUTILo0QlO5mrN</td>\n",
       "      <td>WhittierCA</td>\n",
       "      <td>1</td>\n",
       "      <td>1622717977</td>\n",
       "      <td>0</td>\n",
       "      <td>0</td>\n",
       "      <td>0</td>\n",
       "      <td>5</td>\n",
       "      <td>100</td>\n",
       "      <td>this strawberry cake has been a family favorit...</td>\n",
       "      <td>118</td>\n",
       "      <td>21</td>\n",
       "    </tr>\n",
       "    <tr>\n",
       "      <th>18178</th>\n",
       "      <td>115</td>\n",
       "      <td>100</td>\n",
       "      <td>82745</td>\n",
       "      <td>Mamaw Emilyâs Strawberry Cake</td>\n",
       "      <td>sp_aUSaElGf_82745_c_204836</td>\n",
       "      <td>u_1oKY7CKLaFQpI3cBCVaxHXAEGbt</td>\n",
       "      <td>susieswan</td>\n",
       "      <td>1</td>\n",
       "      <td>1613036720</td>\n",
       "      <td>0</td>\n",
       "      <td>0</td>\n",
       "      <td>0</td>\n",
       "      <td>5</td>\n",
       "      <td>100</td>\n",
       "      <td>pi received endless compliments on this cake i...</td>\n",
       "      <td>291</td>\n",
       "      <td>55</td>\n",
       "    </tr>\n",
       "    <tr>\n",
       "      <th>18179</th>\n",
       "      <td>116</td>\n",
       "      <td>100</td>\n",
       "      <td>82745</td>\n",
       "      <td>Mamaw Emilyâs Strawberry Cake</td>\n",
       "      <td>sp_aUSaElGf_82745_c_301178</td>\n",
       "      <td>u_1oKXBAuHbMDi9nnriVAbJoPqpeQ</td>\n",
       "      <td>blajr</td>\n",
       "      <td>1</td>\n",
       "      <td>1622717844</td>\n",
       "      <td>0</td>\n",
       "      <td>0</td>\n",
       "      <td>0</td>\n",
       "      <td>5</td>\n",
       "      <td>100</td>\n",
       "      <td>this cake was delicious and so moist i didn39t...</td>\n",
       "      <td>321</td>\n",
       "      <td>59</td>\n",
       "    </tr>\n",
       "    <tr>\n",
       "      <th>18180</th>\n",
       "      <td>117</td>\n",
       "      <td>100</td>\n",
       "      <td>82745</td>\n",
       "      <td>Mamaw Emilyâs Strawberry Cake</td>\n",
       "      <td>sp_aUSaElGf_82745_c_180512</td>\n",
       "      <td>u_1oKVbnueXfnlmYWuYH8xJ0mFxNQ</td>\n",
       "      <td>cafritz</td>\n",
       "      <td>1</td>\n",
       "      <td>1622717233</td>\n",
       "      <td>0</td>\n",
       "      <td>0</td>\n",
       "      <td>0</td>\n",
       "      <td>5</td>\n",
       "      <td>100</td>\n",
       "      <td>i just made this too it is wonderful as for th...</td>\n",
       "      <td>179</td>\n",
       "      <td>37</td>\n",
       "    </tr>\n",
       "    <tr>\n",
       "      <th>18181</th>\n",
       "      <td>118</td>\n",
       "      <td>100</td>\n",
       "      <td>82745</td>\n",
       "      <td>Mamaw Emilyâs Strawberry Cake</td>\n",
       "      <td>sp_aUSaElGf_82745_c_262637</td>\n",
       "      <td>u_1oKW6W12cOLxiMzjA7j8nTqwFWG</td>\n",
       "      <td>nopalito</td>\n",
       "      <td>1</td>\n",
       "      <td>1622717625</td>\n",
       "      <td>0</td>\n",
       "      <td>1</td>\n",
       "      <td>0</td>\n",
       "      <td>5</td>\n",
       "      <td>193</td>\n",
       "      <td>omg you must make this cake i made it for my s...</td>\n",
       "      <td>451</td>\n",
       "      <td>85</td>\n",
       "    </tr>\n",
       "  </tbody>\n",
       "</table>\n",
       "<p>18182 rows × 17 columns</p>\n",
       "</div>"
      ],
      "text/plain": [
       "       Unnamed: 0  recipe_number  recipe_code  \\\n",
       "0               0              1        14299   \n",
       "1               1              1        14299   \n",
       "2               2              1        14299   \n",
       "3               3              1        14299   \n",
       "4               4              1        14299   \n",
       "...           ...            ...          ...   \n",
       "18177         114            100        82745   \n",
       "18178         115            100        82745   \n",
       "18179         116            100        82745   \n",
       "18180         117            100        82745   \n",
       "18181         118            100        82745   \n",
       "\n",
       "                           recipe_name  \\\n",
       "0                   Creamy White Chili   \n",
       "1                   Creamy White Chili   \n",
       "2                   Creamy White Chili   \n",
       "3                   Creamy White Chili   \n",
       "4                   Creamy White Chili   \n",
       "...                                ...   \n",
       "18177  Mamaw Emilyâs Strawberry Cake   \n",
       "18178  Mamaw Emilyâs Strawberry Cake   \n",
       "18179  Mamaw Emilyâs Strawberry Cake   \n",
       "18180  Mamaw Emilyâs Strawberry Cake   \n",
       "18181  Mamaw Emilyâs Strawberry Cake   \n",
       "\n",
       "                                            comment_id  \\\n",
       "0      sp_aUSaElGf_14299_c_2G3aneMRgRMZwXqIHmSdXSG1hEM   \n",
       "1      sp_aUSaElGf_14299_c_2FsPC83HtzCsQAtOxlbL6RcaPbY   \n",
       "2      sp_aUSaElGf_14299_c_2FPrSGyTv7PQkZq37j92r9mYGkP   \n",
       "3      sp_aUSaElGf_14299_c_2DzdSIgV9qNiuBaLoZ7JQaartoC   \n",
       "4      sp_aUSaElGf_14299_c_2DtZJuRQYeTFwXBoZRfRhBPEXjI   \n",
       "...                                                ...   \n",
       "18177                       sp_aUSaElGf_82745_c_331352   \n",
       "18178                       sp_aUSaElGf_82745_c_204836   \n",
       "18179                       sp_aUSaElGf_82745_c_301178   \n",
       "18180                       sp_aUSaElGf_82745_c_180512   \n",
       "18181                       sp_aUSaElGf_82745_c_262637   \n",
       "\n",
       "                             user_id   user_name  user_reputation  created_at  \\\n",
       "0                     u_9iFLIhMa8QaG     Jeri326                1  1665619889   \n",
       "1                     u_Lu6p25tmE77j     Mark467               50  1665277687   \n",
       "2                     u_s0LwgpZ8Jsqq  Barbara566               10  1664404557   \n",
       "3                     u_fqrybAdYjgjG  jeansch123                1  1661787808   \n",
       "4                     u_XXWKwVhKZD69    camper77               10  1664913823   \n",
       "...                              ...         ...              ...         ...   \n",
       "18177  u_1oKblS4ULpTAACUTILo0QlO5mrN  WhittierCA                1  1622717977   \n",
       "18178  u_1oKY7CKLaFQpI3cBCVaxHXAEGbt   susieswan                1  1613036720   \n",
       "18179  u_1oKXBAuHbMDi9nnriVAbJoPqpeQ       blajr                1  1622717844   \n",
       "18180  u_1oKVbnueXfnlmYWuYH8xJ0mFxNQ     cafritz                1  1622717233   \n",
       "18181  u_1oKW6W12cOLxiMzjA7j8nTqwFWG    nopalito                1  1622717625   \n",
       "\n",
       "       reply_count  thumbs_up  thumbs_down  stars  best_score  \\\n",
       "0                0          0            0      5         527   \n",
       "1                0          7            0      5         724   \n",
       "2                0          3            0      5         710   \n",
       "3                2          2            0      0         581   \n",
       "4                1          7            0      0         820   \n",
       "...            ...        ...          ...    ...         ...   \n",
       "18177            0          0            0      5         100   \n",
       "18178            0          0            0      5         100   \n",
       "18179            0          0            0      5         100   \n",
       "18180            0          0            0      5         100   \n",
       "18181            0          1            0      5         193   \n",
       "\n",
       "                                                    text  review_len  \\\n",
       "0      i tweaked it a little removed onions because o...         345   \n",
       "1      bush used to have a white chili bean and it ma...         137   \n",
       "2      i have a very complicated white chicken chili ...         346   \n",
       "3      in your introduction you mentioned cream chees...          91   \n",
       "4      wonderful i made this for a 34chilistew34 nigh...         223   \n",
       "...                                                  ...         ...   \n",
       "18177  this strawberry cake has been a family favorit...         118   \n",
       "18178  pi received endless compliments on this cake i...         291   \n",
       "18179  this cake was delicious and so moist i didn39t...         321   \n",
       "18180  i just made this too it is wonderful as for th...         179   \n",
       "18181  omg you must make this cake i made it for my s...         451   \n",
       "\n",
       "       total_words  \n",
       "0               67  \n",
       "1               28  \n",
       "2               63  \n",
       "3               15  \n",
       "4               42  \n",
       "...            ...  \n",
       "18177           21  \n",
       "18178           55  \n",
       "18179           59  \n",
       "18180           37  \n",
       "18181           85  \n",
       "\n",
       "[18182 rows x 17 columns]"
      ]
     },
     "execution_count": 12,
     "metadata": {},
     "output_type": "execute_result"
    }
   ],
   "source": [
    "recipe_df"
   ]
  },
  {
   "cell_type": "code",
   "execution_count": null,
   "metadata": {},
   "outputs": [
    {
     "data": {
      "image/png": "[encoded data removed]",
      "text/plain": [
       "<Figure size 864x432 with 1 Axes>"
      ]
     },
     "metadata": {},
     "output_type": "display_data"
    }
   ],
   "source": [
    "#Checking distrubution of reviews length\n",
    "plt.figure(figsize=(12, 6))\n",
    "sns.histplot(recipe_df['review_len'],color='red',kde=True)\n",
    "plt.grid(False)\n",
    "plt.show()"
   ]
  },
  {
   "cell_type": "code",
   "execution_count": null,
   "metadata": {},
   "outputs": [],
   "source": [
    "indexes = recipe_df[recipe_df['review_len']<10].index"
   ]
  },
  {
   "cell_type": "code",
   "execution_count": null,
   "metadata": {},
   "outputs": [],
   "source": [
    "recipe_df.drop(indexes,axis=0,inplace=True)"
   ]
  },
  {
   "cell_type": "code",
   "execution_count": null,
   "metadata": {},
   "outputs": [
    {
     "data": {
      "image/png": "[encoded data removed]",
      "text/plain": [
       "<Figure size 864x432 with 1 Axes>"
      ]
     },
     "metadata": {},
     "output_type": "display_data"
    }
   ],
   "source": [
    "#Checking distrubution of total words\n",
    "plt.figure(figsize=(12, 6))\n",
    "sns.histplot(recipe_df['total_words'],color='red',kde=True)\n",
    "plt.grid(False)\n",
    "plt.show()"
   ]
  },
  {
   "cell_type": "markdown",
   "metadata": {},
   "source": [
    "### Classification Model"
   ]
  },
  {
   "cell_type": "code",
   "execution_count": null,
   "metadata": {},
   "outputs": [],
   "source": [
    "from sklearn.feature_extraction.text import TfidfVectorizer\n",
    "from sklearn.naive_bayes import MultinomialNB\n",
    "from sklearn.metrics import confusion_matrix,accuracy_score"
   ]
  },
  {
   "cell_type": "code",
   "execution_count": null,
   "metadata": {},
   "outputs": [
    {
     "data": {
      "text/plain": [
       "array([5, 0, 4, 3, 1, 2], dtype=int64)"
      ]
     },
     "execution_count": 18,
     "metadata": {},
     "output_type": "execute_result"
    }
   ],
   "source": [
    "# checking categories of dataset\n",
    "recipe_df['stars'].unique()"
   ]
  },
  {
   "cell_type": "code",
   "execution_count": null,
   "metadata": {},
   "outputs": [],
   "source": [
    "from langdetect import detect\n",
    "def is_english(text):\n",
    "    try:\n",
    "        return detect(text) == 'en'\n",
    "    except:\n",
    "        return False"
   ]
  },
  {
   "cell_type": "code",
   "execution_count": null,
   "metadata": {},
   "outputs": [],
   "source": [
    "status = []\n",
    "for i in recipe_df['text']:\n",
    "    status.append(is_english(i))"
   ]
  },
  {
   "cell_type": "code",
   "execution_count": null,
   "metadata": {},
   "outputs": [],
   "source": [
    "recipe_df['english_status'] = status"
   ]
  },
  {
   "cell_type": "code",
   "execution_count": null,
   "metadata": {},
   "outputs": [
    {
     "data": {
      "text/plain": [
       "dtype('bool')"
      ]
     },
     "execution_count": 22,
     "metadata": {},
     "output_type": "execute_result"
    }
   ],
   "source": [
    "recipe_df['english_status'].dtype"
   ]
  },
  {
   "cell_type": "code",
   "execution_count": null,
   "metadata": {},
   "outputs": [],
   "source": [
    "false_indexes = recipe_df[recipe_df['english_status']==False].index"
   ]
  },
  {
   "cell_type": "code",
   "execution_count": null,
   "metadata": {},
   "outputs": [],
   "source": [
    "recipe_df.drop(false_indexes,axis=0,inplace=True)"
   ]
  },
  {
   "cell_type": "code",
   "execution_count": null,
   "metadata": {},
   "outputs": [
    {
     "data": {
      "text/plain": [
       "5    13411\n",
       "0     1656\n",
       "4     1607\n",
       "3      475\n",
       "1      267\n",
       "2      227\n",
       "Name: stars, dtype: int64"
      ]
     },
     "execution_count": 25,
     "metadata": {},
     "output_type": "execute_result"
    }
   ],
   "source": [
    "# Checking data imbalance\n",
    "recipe_df['stars'].value_counts()"
   ]
  },
  {
   "cell_type": "markdown",
   "metadata": {},
   "source": [
    "With the data collected, we will now proceed to install textblob. Ensure that you have 'TextBlob' downloaded so that we can begin using TextBlob for our sentiment analysis"
   ]
  },
  {
   "cell_type": "code",
   "execution_count": null,
   "metadata": {},
   "outputs": [],
   "source": [
    "# pip or pip3 install textblob\n",
    "from textblob import TextBlob\n",
    "def get_sentiment_polarity(text):\n",
    "    analysis = TextBlob(text)\n",
    "    return analysis.sentiment.polarity\n",
    "# Apply sentiment analysis to reviews\n",
    "recipe_df['sentiment_score'] = recipe_df['text'].apply(get_sentiment_polarity)\n",
    "# Group by star ratings and calculate average sentiment scores\n",
    "average_sentiments = recipe_df.groupby('stars')['sentiment_score'].mean()\n",
    "# Map sentiment scores to star ratings\n",
    "threshold = 0.2  # Adjust the threshold as needed\n",
    "\n",
    "recipe_df['predicted_stars'] = recipe_df['sentiment_score'].apply(lambda x: 5 if x > 0.4 else(4 if x > 0.2 else(3 if x > -0.2 else(2 if x > -0.4 else 1))))\n"
   ]
  },
  {
   "cell_type": "code",
   "execution_count": null,
   "metadata": {},
   "outputs": [
    {
     "data": {
      "text/plain": [
       "5    6425\n",
       "4    5607\n",
       "3    5347\n",
       "2     175\n",
       "1      89\n",
       "Name: predicted_stars, dtype: int64"
      ]
     },
     "execution_count": 27,
     "metadata": {},
     "output_type": "execute_result"
    }
   ],
   "source": [
    "recipe_df['predicted_stars'].value_counts()"
   ]
  },
  {
   "cell_type": "code",
   "execution_count": null,
   "metadata": {},
   "outputs": [],
   "source": [
    "# since data is imbalance, hence, splitting ham and spam seperately to make balance data\n",
    "rating_5 = recipe_df[recipe_df['predicted_stars']==5]\n",
    "rating_4 = recipe_df[recipe_df['predicted_stars']==4]\n",
    "rating_3 = recipe_df[recipe_df['predicted_stars']==3]\n",
    "rating_2 = recipe_df[recipe_df['predicted_stars']==2]\n",
    "rating_1 = recipe_df[recipe_df['predicted_stars']==1]"
   ]
  },
  {
   "cell_type": "code",
   "execution_count": null,
   "metadata": {},
   "outputs": [
    {
     "name": "stdout",
     "output_type": "stream",
     "text": [
      "(6425, 20) (5607, 20) (5347, 20) (175, 20) (89, 20)\n"
     ]
    }
   ],
   "source": [
    "print(rating_5.shape,rating_4.shape,rating_3.shape,rating_2.shape,rating_1.shape)"
   ]
  },
  {
   "cell_type": "code",
   "execution_count": null,
   "metadata": {},
   "outputs": [],
   "source": [
    "rating_4 = rating_4.sample(rating_5.shape[0], replace=True)\n",
    "rating_3 = rating_3.sample(rating_5.shape[0], replace=True)\n",
    "rating_2 = rating_2.sample(rating_5.shape[0], replace=True)\n",
    "rating_1 = rating_1.sample(rating_5.shape[0], replace=True)"
   ]
  },
  {
   "cell_type": "code",
   "execution_count": null,
   "metadata": {},
   "outputs": [
    {
     "name": "stdout",
     "output_type": "stream",
     "text": [
      "(6425, 20) (6425, 20) (6425, 20) (6425, 20) (6425, 20)\n"
     ]
    }
   ],
   "source": [
    "print(rating_5.shape,rating_4.shape,rating_3.shape,rating_2.shape,rating_1.shape)"
   ]
  },
  {
   "cell_type": "code",
   "execution_count": null,
   "metadata": {},
   "outputs": [],
   "source": [
    "# Concatenate the DataFrames vertically in the specified order\n",
    "recipe_df = pd.concat([rating_5, rating_4, rating_3, rating_2, rating_1], ignore_index=True)"
   ]
  },
  {
   "cell_type": "code",
   "execution_count": null,
   "metadata": {},
   "outputs": [
    {
     "data": {
      "text/plain": [
       "(32125, 20)"
      ]
     },
     "execution_count": 33,
     "metadata": {},
     "output_type": "execute_result"
    }
   ],
   "source": [
    "recipe_df.shape"
   ]
  },
  {
   "cell_type": "code",
   "execution_count": null,
   "metadata": {},
   "outputs": [],
   "source": [
    "#Splitting data into dependent and indepent variable\n",
    "x = recipe_df['text']\n",
    "y = recipe_df['predicted_stars']"
   ]
  },
  {
   "cell_type": "code",
   "execution_count": null,
   "metadata": {},
   "outputs": [
    {
     "data": {
      "text/plain": [
       "0    amazing my boyfriend loved it so much going to...\n",
       "1    wow this recipe is excellent as written the on...\n",
       "2                  best and easiest white chili recipe\n",
       "3    delicious if you like a mild chilli taste this...\n",
       "4              my new favorite soup oh my so delicious\n",
       "Name: text, dtype: object"
      ]
     },
     "execution_count": 35,
     "metadata": {},
     "output_type": "execute_result"
    }
   ],
   "source": [
    "x.head()"
   ]
  },
  {
   "cell_type": "code",
   "execution_count": null,
   "metadata": {},
   "outputs": [
    {
     "data": {
      "text/plain": [
       "0    5\n",
       "1    5\n",
       "2    5\n",
       "3    5\n",
       "4    5\n",
       "Name: predicted_stars, dtype: int64"
      ]
     },
     "execution_count": 36,
     "metadata": {},
     "output_type": "execute_result"
    }
   ],
   "source": [
    "y.head()"
   ]
  },
  {
   "cell_type": "code",
   "execution_count": null,
   "metadata": {},
   "outputs": [
    {
     "name": "stderr",
     "output_type": "stream",
     "text": [
      "[nltk_data] Downloading package stopwords to\n",
      "[nltk_data]     C:\\Users\\Enigma\\AppData\\Roaming\\nltk_data...\n",
      "[nltk_data]   Package stopwords is already up-to-date!\n"
     ]
    }
   ],
   "source": [
    "import nltk\n",
    "nltk.download('stopwords')\n",
    "from nltk.corpus import stopwords\n",
    "# Get NLTK's English stop words\n",
    "nltk_stop_words = stopwords.words('english')"
   ]
  },
  {
   "cell_type": "code",
   "execution_count": null,
   "metadata": {},
   "outputs": [],
   "source": [
    "# Preprocess the text data using TF-IDF vectorization\n",
    "tfidf_vectorizer = TfidfVectorizer(stop_words=nltk_stop_words)  # Adjust max_features as needed\n",
    "x_tfidf = tfidf_vectorizer.fit_transform(x)"
   ]
  },
  {
   "cell_type": "code",
   "execution_count": null,
   "metadata": {},
   "outputs": [
    {
     "data": {
      "text/plain": [
       "<32125x14034 sparse matrix of type '<class 'numpy.float64'>'\n",
       "\twith 529435 stored elements in Compressed Sparse Row format>"
      ]
     },
     "execution_count": 39,
     "metadata": {},
     "output_type": "execute_result"
    }
   ],
   "source": [
    "x_tfidf"
   ]
  },
  {
   "cell_type": "code",
   "execution_count": null,
   "metadata": {},
   "outputs": [],
   "source": [
    "# Train and test split\n",
    "from sklearn.model_selection import train_test_split\n",
    "x_train,x_test,y_train,y_test = train_test_split(x_tfidf,y,train_size=.80,stratify=y,random_state=121)"
   ]
  },
  {
   "cell_type": "code",
   "execution_count": null,
   "metadata": {},
   "outputs": [],
   "source": [
    "# Model building Naive Bayes\n",
    "model = MultinomialNB()\n",
    "# Training the model with the training data\n",
    "model.fit(x_train, y_train)\n",
    "# Predicting the test data categories\n",
    "predicted_categories = model.predict(x_test)"
   ]
  },
  {
   "cell_type": "code",
   "execution_count": null,
   "metadata": {},
   "outputs": [
    {
     "ename": "ModuleNotFoundError",
     "evalue": "No module named 'sklearn'",
     "output_type": "error",
     "traceback": [
      "\u001b[1;31m---------------------------------------------------------------------------\u001b[0m",
      "\u001b[1;31mModuleNotFoundError\u001b[0m                       Traceback (most recent call last)",
      "\u001b[1;32mc:\\Users\\Enigma\\Desktop\\app.stackup.dev\\sentiment-analysis-4\\sentiment_analysis_bounty.ipynb Cell 50\u001b[0m line \u001b[0;36m1\n\u001b[1;32m----> <a href='vscode-notebook-cell:/c%3A/Users/Enigma/Desktop/app.stackup.dev/sentiment-analysis-4/sentiment_analysis_bounty.ipynb#Y100sZmlsZQ%3D%3D?line=0'>1</a>\u001b[0m \u001b[39mfrom\u001b[39;00m \u001b[39msklearn\u001b[39;00m\u001b[39m.\u001b[39;00m\u001b[39mmetrics\u001b[39;00m \u001b[39mimport\u001b[39;00m confusion_matrix\n\u001b[0;32m      <a href='vscode-notebook-cell:/c%3A/Users/Enigma/Desktop/app.stackup.dev/sentiment-analysis-4/sentiment_analysis_bounty.ipynb#Y100sZmlsZQ%3D%3D?line=1'>2</a>\u001b[0m \u001b[39mfrom\u001b[39;00m \u001b[39msklearn\u001b[39;00m\u001b[39m.\u001b[39;00m\u001b[39mmetrics\u001b[39;00m \u001b[39mimport\u001b[39;00m ConfusionMatrixDisplay\n\u001b[0;32m      <a href='vscode-notebook-cell:/c%3A/Users/Enigma/Desktop/app.stackup.dev/sentiment-analysis-4/sentiment_analysis_bounty.ipynb#Y100sZmlsZQ%3D%3D?line=3'>4</a>\u001b[0m \u001b[39m# Assuming predicted_categories are the predicted labels for x_test\u001b[39;00m\n",
      "\u001b[1;31mModuleNotFoundError\u001b[0m: No module named 'sklearn'"
     ]
    }
   ],
   "source": [
    "from sklearn.metrics import confusion_matrix\n",
    "from sklearn.metrics import ConfusionMatrixDisplay\n",
    "\n",
    "# Assuming predicted_categories are the predicted labels for x_test\n",
    "\n",
    "confusion = confusion_matrix(y_test, predicted_categories)\n",
    "\n",
    "class_names = np.unique(np.concatenate((y_test, predicted_categories), axis=0))\n",
    "\n",
    "disp = ConfusionMatrixDisplay(confusion_matrix=confusion, display_labels=class_names)\n",
    "disp.plot(cmap=plt.cm.Blues)\n",
    "plt.title(\"Confusion Matrix\")\n",
    "plt.show()"
   ]
  },
  {
   "cell_type": "code",
   "execution_count": null,
   "metadata": {},
   "outputs": [
    {
     "name": "stdout",
     "output_type": "stream",
     "text": [
      "Accuracy: 0.8010894941634241\n"
     ]
    }
   ],
   "source": [
    "accuracy = accuracy_score(y_test, predicted_categories)\n",
    "print(\"Accuracy:\", accuracy)"
   ]
  },
  {
   "cell_type": "code",
   "execution_count": null,
   "metadata": {},
   "outputs": [],
   "source": [
    "#Model Building Logistic Regression\n",
    "from sklearn.linear_model import LogisticRegression\n",
    "model_1 = LogisticRegression(multi_class='multinomial', solver='saga',class_weight='balanced',penalty='l2', C=10)\n",
    "# Training Model with training data \n",
    "model_1.fit(x_train,y_train)\n",
    "# Predicting the test data categories\n",
    "pred = model_1.predict(x_test)"
   ]
  },
  {
   "cell_type": "code",
   "execution_count": null,
   "metadata": {},
   "outputs": [
    {
     "data": {
      "image/png": "[encoded data removed]",
      "text/plain": [
       "<Figure size 432x288 with 2 Axes>"
      ]
     },
     "metadata": {},
     "output_type": "display_data"
    }
   ],
   "source": [
    "from sklearn.metrics import confusion_matrix\n",
    "from sklearn.metrics import ConfusionMatrixDisplay\n",
    "\n",
    "# Assuming predicted_categories are the predicted labels for x_test\n",
    "confusion = confusion_matrix(y_test, pred)\n",
    "\n",
    "class_names = np.unique(np.concatenate((y_test, pred), axis=0))\n",
    "\n",
    "disp = ConfusionMatrixDisplay(confusion_matrix=confusion, display_labels=class_names)\n",
    "disp.plot(cmap=plt.cm.Blues)\n",
    "plt.title(\"Confusion Matrix\")\n",
    "plt.show()"
   ]
  },
  {
   "cell_type": "code",
   "execution_count": null,
   "metadata": {},
   "outputs": [
    {
     "name": "stdout",
     "output_type": "stream",
     "text": [
      "Accuracy: 0.9159533073929961\n"
     ]
    }
   ],
   "source": [
    "accuracy = accuracy_score(y_test, pred)\n",
    "print(\"Accuracy:\", accuracy)"
   ]
  },
  {
   "cell_type": "code",
   "execution_count": null,
   "metadata": {},
   "outputs": [
    {
     "name": "stdout",
     "output_type": "stream",
     "text": [
      "Accuracy: 0.9159533073929961\n"
     ]
    }
   ],
   "source": [
    "accuracy = accuracy_score(y_test, pred)\n",
    "print(\"Accuracy:\", accuracy)"
   ]
  },
  {
   "cell_type": "code",
   "execution_count": null,
   "metadata": {},
   "outputs": [],
   "source": [
    "from datetime import datetime\n",
    "\n",
    "# Change column with Unix timestamps to conventional time\n",
    "recipe_df['created_at'] = recipe_df['created_at'].apply(lambda x: datetime.utcfromtimestamp(x).strftime('%Y-%m-%d %H:%M:%S'))\n",
    "recipe_df['date'] = pd.to_datetime(recipe_df.created_at).dt.date\n",
    "recipe_df['time'] = pd.to_datetime(recipe_df.created_at).dt.time"
   ]
  },
  {
   "cell_type": "code",
   "execution_count": null,
   "metadata": {},
   "outputs": [
    {
     "data": {
      "text/html": [
       "<div>\n",
       "<style scoped>\n",
       "    .dataframe tbody tr th:only-of-type {\n",
       "        vertical-align: middle;\n",
       "    }\n",
       "\n",
       "    .dataframe tbody tr th {\n",
       "        vertical-align: top;\n",
       "    }\n",
       "\n",
       "    .dataframe thead th {\n",
       "        text-align: right;\n",
       "    }\n",
       "</style>\n",
       "<table border=\"1\" class=\"dataframe\">\n",
       "  <thead>\n",
       "    <tr style=\"text-align: right;\">\n",
       "      <th></th>\n",
       "      <th>recipe_name</th>\n",
       "      <th>text</th>\n",
       "      <th>sentiment_score</th>\n",
       "      <th>predicted_stars</th>\n",
       "      <th>date</th>\n",
       "      <th>time</th>\n",
       "    </tr>\n",
       "  </thead>\n",
       "  <tbody>\n",
       "    <tr>\n",
       "      <th>0</th>\n",
       "      <td>Creamy White Chili</td>\n",
       "      <td>amazing my boyfriend loved it so much going to...</td>\n",
       "      <td>0.500000</td>\n",
       "      <td>5</td>\n",
       "      <td>2022-08-24</td>\n",
       "      <td>15:19:11</td>\n",
       "    </tr>\n",
       "    <tr>\n",
       "      <th>1</th>\n",
       "      <td>Creamy White Chili</td>\n",
       "      <td>wow this recipe is excellent as written the on...</td>\n",
       "      <td>0.480952</td>\n",
       "      <td>5</td>\n",
       "      <td>2022-02-05</td>\n",
       "      <td>19:20:05</td>\n",
       "    </tr>\n",
       "    <tr>\n",
       "      <th>2</th>\n",
       "      <td>Creamy White Chili</td>\n",
       "      <td>best and easiest white chili recipe</td>\n",
       "      <td>0.500000</td>\n",
       "      <td>5</td>\n",
       "      <td>2022-01-25</td>\n",
       "      <td>16:21:23</td>\n",
       "    </tr>\n",
       "    <tr>\n",
       "      <th>3</th>\n",
       "      <td>Creamy White Chili</td>\n",
       "      <td>delicious if you like a mild chilli taste this...</td>\n",
       "      <td>0.511111</td>\n",
       "      <td>5</td>\n",
       "      <td>2022-01-07</td>\n",
       "      <td>18:05:04</td>\n",
       "    </tr>\n",
       "    <tr>\n",
       "      <th>4</th>\n",
       "      <td>Creamy White Chili</td>\n",
       "      <td>my new favorite soup oh my so delicious</td>\n",
       "      <td>0.545455</td>\n",
       "      <td>5</td>\n",
       "      <td>2021-11-21</td>\n",
       "      <td>18:56:20</td>\n",
       "    </tr>\n",
       "    <tr>\n",
       "      <th>...</th>\n",
       "      <td>...</td>\n",
       "      <td>...</td>\n",
       "      <td>...</td>\n",
       "      <td>...</td>\n",
       "      <td>...</td>\n",
       "      <td>...</td>\n",
       "    </tr>\n",
       "    <tr>\n",
       "      <th>32120</th>\n",
       "      <td>Flavorful Pot Roast</td>\n",
       "      <td>so disappointing not good at all threw it all out</td>\n",
       "      <td>-0.475000</td>\n",
       "      <td>1</td>\n",
       "      <td>2021-06-03</td>\n",
       "      <td>10:54:58</td>\n",
       "    </tr>\n",
       "    <tr>\n",
       "      <th>32121</th>\n",
       "      <td>Best Ever Potato Soup</td>\n",
       "      <td>i can39t see a reason for adding milk to a hea...</td>\n",
       "      <td>-0.800000</td>\n",
       "      <td>1</td>\n",
       "      <td>2021-06-03</td>\n",
       "      <td>11:04:30</td>\n",
       "    </tr>\n",
       "    <tr>\n",
       "      <th>32122</th>\n",
       "      <td>Creamy White Chili</td>\n",
       "      <td>i39m confused in the description it says 34may...</td>\n",
       "      <td>-0.400000</td>\n",
       "      <td>1</td>\n",
       "      <td>2021-06-03</td>\n",
       "      <td>11:05:37</td>\n",
       "    </tr>\n",
       "    <tr>\n",
       "      <th>32123</th>\n",
       "      <td>Cauliflower Soup</td>\n",
       "      <td>i found this soup so bland and runny i even us...</td>\n",
       "      <td>-0.583333</td>\n",
       "      <td>1</td>\n",
       "      <td>2021-06-03</td>\n",
       "      <td>11:04:05</td>\n",
       "    </tr>\n",
       "    <tr>\n",
       "      <th>32124</th>\n",
       "      <td>Black Bean ânâ Pumpkin Chili</td>\n",
       "      <td>forgot to mention that i use chicken instead o...</td>\n",
       "      <td>-0.600000</td>\n",
       "      <td>1</td>\n",
       "      <td>2021-06-03</td>\n",
       "      <td>10:44:13</td>\n",
       "    </tr>\n",
       "  </tbody>\n",
       "</table>\n",
       "<p>32125 rows × 6 columns</p>\n",
       "</div>"
      ],
      "text/plain": [
       "                            recipe_name  \\\n",
       "0                    Creamy White Chili   \n",
       "1                    Creamy White Chili   \n",
       "2                    Creamy White Chili   \n",
       "3                    Creamy White Chili   \n",
       "4                    Creamy White Chili   \n",
       "...                                 ...   \n",
       "32120               Flavorful Pot Roast   \n",
       "32121             Best Ever Potato Soup   \n",
       "32122                Creamy White Chili   \n",
       "32123                  Cauliflower Soup   \n",
       "32124  Black Bean ânâ Pumpkin Chili   \n",
       "\n",
       "                                                    text  sentiment_score  \\\n",
       "0      amazing my boyfriend loved it so much going to...         0.500000   \n",
       "1      wow this recipe is excellent as written the on...         0.480952   \n",
       "2                    best and easiest white chili recipe         0.500000   \n",
       "3      delicious if you like a mild chilli taste this...         0.511111   \n",
       "4                my new favorite soup oh my so delicious         0.545455   \n",
       "...                                                  ...              ...   \n",
       "32120  so disappointing not good at all threw it all out        -0.475000   \n",
       "32121  i can39t see a reason for adding milk to a hea...        -0.800000   \n",
       "32122  i39m confused in the description it says 34may...        -0.400000   \n",
       "32123  i found this soup so bland and runny i even us...        -0.583333   \n",
       "32124  forgot to mention that i use chicken instead o...        -0.600000   \n",
       "\n",
       "       predicted_stars        date      time  \n",
       "0                    5  2022-08-24  15:19:11  \n",
       "1                    5  2022-02-05  19:20:05  \n",
       "2                    5  2022-01-25  16:21:23  \n",
       "3                    5  2022-01-07  18:05:04  \n",
       "4                    5  2021-11-21  18:56:20  \n",
       "...                ...         ...       ...  \n",
       "32120                1  2021-06-03  10:54:58  \n",
       "32121                1  2021-06-03  11:04:30  \n",
       "32122                1  2021-06-03  11:05:37  \n",
       "32123                1  2021-06-03  11:04:05  \n",
       "32124                1  2021-06-03  10:44:13  \n",
       "\n",
       "[32125 rows x 6 columns]"
      ]
     },
     "execution_count": 49,
     "metadata": {},
     "output_type": "execute_result"
    }
   ],
   "source": [
    "recipe_df = recipe_df.drop([\"Unnamed: 0\",\"recipe_code\",\"recipe_number\",\"thumbs_up\",\"comment_id\",\"user_id\",\"user_name\",\"user_reputation\",\"reply_count\",\"thumbs_down\",\"best_score\",\"stars\",\"review_len\",\"total_words\",\"english_status\",\"created_at\"], axis=1)\n",
    "recipe_df"
   ]
  },
  {
   "cell_type": "code",
   "execution_count": null,
   "metadata": {},
   "outputs": [
    {
     "data": {
      "image/png": "[encoded data removed]",
      "text/plain": [
       "<Figure size 720x432 with 1 Axes>"
      ]
     },
     "metadata": {
      "needs_background": "light"
     },
     "output_type": "display_data"
    }
   ],
   "source": [
    "import matplotlib.pyplot as plt\n",
    "plt.style.use(\"fivethirtyeight\")\n",
    "%matplotlib inline\n",
    "\n",
    "# Filter the DataFrame for the specific recipe\n",
    "recipe_filtered = recipe_df[recipe_df['recipe_name'] == 'Basic Banana Muffins']\n",
    "\n",
    "# Group by date and calculate the mean sentiment score\n",
    "mean_c = recipe_filtered.groupby(['date','recipe_name'])\n",
    "mean_c = mean_c['sentiment_score'].mean()\n",
    "\n",
    "# unstack column recipe_name\n",
    "mean_c = mean_c.unstack('recipe_name')\n",
    "\n",
    "# Plot a bar chart with pandas\n",
    "mean_c.plot.bar(figsize=(10, 6));"
   ]
  },
  {
   "cell_type": "markdown",
   "metadata": {},
   "source": [
    " we now proceed to explore deeper, what is the sentiment within a particular day. Let's zoom in on 2nd June 2021 (i.e. \"2019-06-02\") to analyze the reviews on Basic Banana Muffins."
   ]
  },
  {
   "cell_type": "code",
   "execution_count": null,
   "metadata": {},
   "outputs": [
    {
     "data": {
      "text/html": [
       "<div>\n",
       "<style scoped>\n",
       "    .dataframe tbody tr th:only-of-type {\n",
       "        vertical-align: middle;\n",
       "    }\n",
       "\n",
       "    .dataframe tbody tr th {\n",
       "        vertical-align: top;\n",
       "    }\n",
       "\n",
       "    .dataframe thead th {\n",
       "        text-align: right;\n",
       "    }\n",
       "</style>\n",
       "<table border=\"1\" class=\"dataframe\">\n",
       "  <thead>\n",
       "    <tr style=\"text-align: right;\">\n",
       "      <th></th>\n",
       "      <th>text</th>\n",
       "      <th>sentiment_score</th>\n",
       "      <th>predicted_stars</th>\n",
       "    </tr>\n",
       "    <tr>\n",
       "      <th>time</th>\n",
       "      <th></th>\n",
       "      <th></th>\n",
       "      <th></th>\n",
       "    </tr>\n",
       "  </thead>\n",
       "  <tbody>\n",
       "    <tr>\n",
       "      <th>15:47:53</th>\n",
       "      <td>this is absolutely delicious my family loves w...</td>\n",
       "      <td>0.416667</td>\n",
       "      <td>5</td>\n",
       "    </tr>\n",
       "    <tr>\n",
       "      <th>15:48:01</th>\n",
       "      <td>amazing i made it with gluten free flour and s...</td>\n",
       "      <td>0.466667</td>\n",
       "      <td>5</td>\n",
       "    </tr>\n",
       "    <tr>\n",
       "      <th>15:48:01</th>\n",
       "      <td>these are a hit in our house and when shared w...</td>\n",
       "      <td>0.246667</td>\n",
       "      <td>4</td>\n",
       "    </tr>\n",
       "    <tr>\n",
       "      <th>15:48:01</th>\n",
       "      <td>this is an excellent base recipe i39ve made se...</td>\n",
       "      <td>0.271131</td>\n",
       "      <td>4</td>\n",
       "    </tr>\n",
       "  </tbody>\n",
       "</table>\n",
       "</div>"
      ],
      "text/plain": [
       "                                                       text  sentiment_score  \\\n",
       "time                                                                           \n",
       "15:47:53  this is absolutely delicious my family loves w...         0.416667   \n",
       "15:48:01  amazing i made it with gluten free flour and s...         0.466667   \n",
       "15:48:01  these are a hit in our house and when shared w...         0.246667   \n",
       "15:48:01  this is an excellent base recipe i39ve made se...         0.271131   \n",
       "\n",
       "          predicted_stars  \n",
       "time                       \n",
       "15:47:53                5  \n",
       "15:48:01                5  \n",
       "15:48:01                4  \n",
       "15:48:01                4  "
      ]
     },
     "execution_count": 67,
     "metadata": {},
     "output_type": "execute_result"
    }
   ],
   "source": [
    "recipe_filtered['date'] = pd.to_datetime(recipe_filtered['date'])\n",
    "\n",
    "# Filter the dataset for the date\n",
    "filtered_df = recipe_filtered[recipe_filtered['date'] == '2021-06-02']\n",
    "filtered_df = filtered_df.set_index(['recipe_name', 'date'])\n",
    "filtered_df = filtered_df.xs('Basic Banana Muffins')\n",
    "\n",
    "# Set the index of filtered_df to time \n",
    "filtered_df = filtered_df.set_index('time')\n",
    "\n",
    "# Sort by index\n",
    "filtered_df = filtered_df.sort_index()\n",
    "\n",
    "filtered_df"
   ]
  },
  {
   "cell_type": "code",
   "execution_count": null,
   "metadata": {},
   "outputs": [
    {
     "data": {
      "image/png": "[encoded data removed]",
      "text/plain": [
       "<Figure size 720x432 with 1 Axes>"
      ]
     },
     "metadata": {
      "needs_background": "light"
     },
     "output_type": "display_data"
    }
   ],
   "source": [
    "TITLE = \"Star Rating Sentiment for Recipe Review\"\n",
    "COLORS = [\"red\"]\n",
    "\n",
    "plot_day = filtered_df.drop(['text', 'predicted_stars'], axis=1)\n",
    "# Change the column names to 'sentiment_score'\n",
    "plot_day.columns = ['sentiment_score']\n",
    "\n",
    "# Plot a bar chart\n",
    "plot_day.plot.bar(figsize=(10, 6), title=TITLE, color=COLORS).legend(bbox_to_anchor=(1.2, 0.5))\n",
    "plt.ylabel('scores');"
   ]
  },
  {
   "cell_type": "markdown",
   "metadata": {},
   "source": [
    "## Sentiment Analysis for Recipe Reviews\n",
    "This sentiment analysis project focuses on evaluating the sentiment of user reviews in a comprehensive repository of data called Recipe Reviews and User Feedback Dataset. The dataset includes columns such as 'text', 'recipe_name', and 'stars', and the analysis aims to visualize the sentiment trends over time. The 'text' column contains user-generated reviews, 'sentiment_score' which was generated by the use of TextBlob library, quantifies the sentiment of each review, and 'predicted_stars' indicates the star rating predicted from sentiment analysis.\n",
    "\n",
    "Initially, the project involved cleaning the data and preparing it for analysis. The sentiment scores were categorized with a threshold of 0.2 into five bins, representing different sentiment levels categorized as 'predicted_stars'. The analysis further involved creating a bar chart with time on the x-axis and sentiment scores on the y-axis. This visualization provides insights into how sentiment varies over time and allows for the identification of trends.\n",
    "\n",
    "Classification and vectorization was used to train and model data to a more balanced distribution, stop words was used to remove words that do not contribute to distinguished between sentiments hence improve the performance of machine learning models. Sentiment analysis was carried out on a small sample of recipe, on a specific day 2021-06-02 to ascertain the rating of 'Basic Banana Muffins' by the reviewer using the sentiment score.\n",
    "\n",
    "Despite encountering challenges in implementation, this sentiment analysis project aimed to provide a comprehensive understanding of the sentiment dynamics within the recipe reviews dataset. The visualizations and data manipulations were designed to uncover patterns and trends in user sentiments, contributing valuable insights for recipe recommendations or improvements."
   ]
  }
 ],
 "metadata": {
  "kernelspec": {
   "display_name": "Python 3",
   "language": "python",
   "name": "python3"
  },
  "language_info": {
   "codemirror_mode": {
    "name": "ipython",
    "version": 3
   },
   "file_extension": ".py",
   "mimetype": "text/x-python",
   "name": "python",
   "nbconvert_exporter": "python",
   "pygments_lexer": "ipython3",
   "version": "3.11.3"
  }
 },
 "nbformat": 4,
 "nbformat_minor": 4
}
